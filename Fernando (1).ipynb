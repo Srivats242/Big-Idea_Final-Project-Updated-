{
 "cells": [
  {
   "cell_type": "markdown",
   "metadata": {},
   "source": [
    "# Introduction\n",
    "\n",
    "Ever since I was a little boy, I have been interested in the factors families decide on when selecting a house. That being said, this growing interest has secretly started to creep on me as I got older, especially for life after college. When deciding where to live, families usually choose a few factors: school, safety, and overall location. That being said, I decided to focus on one of the main factors: how safe the neighborhood is. Furthermore, I chose a dataset that involves the number of arrests per neighborhood in a period of seven years."
   ]
  },
  {
   "cell_type": "code",
   "execution_count": null,
   "metadata": {},
   "outputs": [],
   "source": [
    "\n",
    "import pandas as pd\n",
    "import geopandas \n",
    "import numpy as np\n",
    "%matplotlib inline\n",
    "import matplotlib.pyplot as plt"
   ]
  },
  {
   "cell_type": "markdown",
   "metadata": {},
   "source": [
    "# My Metric Explanation:\n",
    "\n",
    "## Amount of Arrests:\n",
    "\n",
    "As a group, we each measured different databases with different information, from the amount of firearms seized to even the number of crime incidents. As a group, we all had one established metric: to evaluate the \"safeness\" of each neighborhood and then determine the safest neighborhood. However, I measured the number of arrests per neighborhood, specifically by using the data set named Pittsburgh Police Arrest Data. By doing so, I used a bar graph to illustrate the data best.  \n",
    "\n",
    "\n",
    "\n",
    "\n"
   ]
  },
  {
   "cell_type": "markdown",
   "metadata": {},
   "source": [
    "# Code Explanation: Comments Found Above Each Code Segment "
   ]
  },
  {
   "cell_type": "code",
   "execution_count": 3,
   "metadata": {},
   "outputs": [
    {
     "name": "stdout",
     "output_type": "stream",
     "text": [
      "                  Neighborhoods  Number_of_Arrests_Made\n",
      "57      Mt. Oliver Neighborhood                       2\n",
      "91       Troy Hill-Herrs Island                       6\n",
      "56              Mt. Oliver Boro                      18\n",
      "19            Central Northside                      23\n",
      "72                Regent Square                      36\n",
      "73                    Ridgemont                      37\n",
      "58                New Homestead                      39\n",
      "88               Swisshelm Park                      42\n",
      "21               Chartiers City                      44\n",
      "27                East Carnegie                      48\n",
      "84                    St. Clair                      53\n",
      "64               Outside County                      55\n",
      "65                Outside State                      64\n",
      "87                  Summer Hill                      74\n",
      "62                      Oakwood                      80\n",
      "37  Golden Triangle/Civic Arena                      83\n",
      "39                         Hays                     118\n",
      "32                    Fairywood                     122\n",
      "97                      Windgap                     123\n",
      "54                 Mount Oliver                     123\n",
      "1                Allegheny West                     127\n",
      "4             Arlington Heights                     153\n",
      "71                  Polish Hill                     162\n",
      "36                   Glen Hazel                     164\n",
      "34                   Friendship                     168\n",
      "53                  Morningside                     185\n",
      "25             Duquesne Heights                     187\n",
      "93          Upper Lawrenceville                     187\n",
      "31                       Esplen                     198\n",
      "80                Spring Garden                     213\n",
      "85              Stanton Heights                     219\n",
      "96                     Westwood                     222\n",
      "47                Lincoln Place                     222\n",
      "11                      Bon Air                     261\n",
      "49          Lower Lawrenceville                     262\n",
      "70           Point Breeze North                     279\n",
      "94                     West End                     281\n",
      "82          Squirrel Hill North                     285\n",
      "5                    Banksville                     288\n",
      "89              Terrace Village                     292\n",
      "77                  South Shore                     294\n",
      "69                 Point Breeze                     297\n",
      "3                     Arlington                     302\n",
      "14         California-Kirkbride                     304\n",
      "63                 Outside City                     309\n",
      "95                 West Oakland                     312\n",
      "66                    Overbrook                     321\n",
      "76                South Oakland                     345\n",
      "92                   Upper Hill                     364\n",
      "17        Central Lawrenceville                     425\n",
      "90                    Troy Hill                     427\n",
      "59                North Oakland                     434\n",
      "22                      Chateau                     448\n",
      "50                   Manchester                     459\n",
      "8                   Beltzhoover                     489\n",
      "86               Strip District                     492\n",
      "20              Central Oakland                     512\n",
      "38                   Greenfield                     531\n",
      "41                Highland Park                     549\n",
      "67                  Perry North                     585\n",
      "23              Crafton Heights                     587\n",
      "30                      Elliott                     650\n",
      "6             Bedford Dwellings                     656\n",
      "61            Northview Heights                     697\n",
      "81        Spring Hill-City View                     702\n",
      "35                     Garfield                     707\n",
      "44                Homewood West                     753\n",
      "33                     Fineview                     789\n",
      "79            South Side Slopes                     789\n",
      "60                  North Shore                     794\n",
      "83          Squirrel Hill South                     808\n",
      "24             Crawford-Roberts                     809\n",
      "18           Central North Side                     831\n",
      "46                      Larimer                     865\n",
      "52                  Middle Hill                     920\n",
      "2                     Allentown                     930\n",
      "74                    Shadyside                     949\n",
      "9                    Bloomfield                     972\n",
      "68                  Perry South                    1040\n",
      "12             Brighton Heights                    1095\n",
      "28                   East Hills                    1162\n",
      "7                     Beechview                    1167\n",
      "0              Allegheny Center                    1227\n",
      "75                     Sheraden                    1258\n",
      "45                    Knoxville                    1301\n",
      "48     Lincoln-Lemington-Belmar                    1320\n",
      "13                    Brookline                    1346\n",
      "40                    Hazelwood                    1366\n",
      "55             Mount Washington                    1414\n",
      "10                        Bluff                    1463\n",
      "51           Marshall-Shadeland                    1491\n",
      "29                 East Liberty                    1855\n",
      "42               Homewood North                    1931\n",
      "43               Homewood South                    2047\n",
      "26               East Allegheny                    2155\n",
      "15                      Carrick                    2300\n",
      "78             South Side Flats                    3382\n",
      "16    Central Business District                    4250\n"
     ]
    }
   ],
   "source": [
    "# First I decided on importing the pandas library and then read the CSV file into a DataFrame named 'arrests'.\n",
    "arrests = pd.read_csv(\"NeighborhoodArrest.csv\")\n",
    "\n",
    "# Then set the display option to show all rows when printing the DataFrame.\n",
    "\n",
    "pd.set_option('display.max_rows', None)\n",
    "\n",
    "# Next group the DataFrame 'arrests' by the column 'INCIDENTNEIGHBORHOOD' and get the count of occurrences in each group.\n",
    "\n",
    "neighborhood_arrests = arrests.groupby('INCIDENTNEIGHBORHOOD').size()\n",
    "\n",
    "# Next create a new DataFrame 'd2' with the count of crimes in each neighborhood.\n",
    "\n",
    "d2 = pd.DataFrame( { \"number of crimes comitted\" : neighborhood_arrests } )\n",
    "\n",
    "# Then reset the index of DataFrame 'd2'.\n",
    "\n",
    "d2.reset_index(inplace=True)\n",
    "\n",
    "# Next you rename the columns of DataFrame 'd2' to more meaningful names.\n",
    "\n",
    "d2.columns = [ \"Neighborhoods\", \"Number_of_Arrests_Made\"]\n",
    "\n",
    "# Then sort the DataFrame 'd2' based on the 'Number_of_Arrests_Made' column in ascending order.\n",
    "\n",
    "d2 = d2.sort_values(by = 'Number_of_Arrests_Made')\n",
    "\n",
    "# Finally I decided on printing the sorted DataFrame 'd2'.\n",
    "\n",
    "print(d2)\n"
   ]
  },
  {
   "cell_type": "code",
   "execution_count": null,
   "metadata": {},
   "outputs": [],
   "source": []
  },
  {
   "cell_type": "markdown",
   "metadata": {},
   "source": [
    "# Dataset Explanation\n",
    "As you can see, this is raw data, which was pulled, counted, and then sorted to count the number of arrests made per neighborhood. I then sorted the output of this dataset from the least to the greatest amount of arrests. If you have yet to notice, this is quite hard to read, which we wouldn't want for the intended audience. That being said, it gives us a good reason to convert this sorted dataset into a bar graph.\n"
   ]
  },
  {
   "cell_type": "markdown",
   "metadata": {},
   "source": [
    "# Result Evaluation\n",
    "\n",
    "By examining our ugly yet functionally sorted database, we can conclude that the neighborhood of Mount Oliver has the least number of arrests in the period of seven years, which allows us to determine that, on paper, it is the safest neighborhood. On the contrary, we can then determine that the neighborhood of Central Business District (also known as downtown) allows us to determine that it is the least safest neighborhood due to its 4250 arrests. This would be highly useful for our intended audience."
   ]
  },
  {
   "cell_type": "markdown",
   "metadata": {},
   "source": [
    "# Code Explanation: Comments Found Above Each Code Segment \n"
   ]
  },
  {
   "cell_type": "code",
   "execution_count": null,
   "metadata": {},
   "outputs": [],
   "source": [
    "# First convert the 'Number_of_Arrests_Made' column in DataFrame 'd2' to numeric values\n",
    "\n",
    "d2['Number_of_Arrests_Made'] = pd.to_numeric(d2['Number_of_Arrests_Made'], errors='coerce')\n",
    "\n",
    "# Then sort DataFrame 'd2' based on the 'Number_of_Arrests_Made' column in descending order\n",
    "\n",
    "d2_sorted = d2.sort_values(by= 'Number_of_Arrests_Made', ascending=False)\n",
    "\n",
    "# Next set the figure size for the horizontal bar plot based on the number of neighborhoods in the sorted DataFrame\n",
    "\n",
    "# Next create a horizontal bar plot using the sorted DataFrame 'd2_sorted'\n",
    "\n",
    "plt.figure(figsize=(20, d2_sorted.shape[0] * 0.3))\n",
    "plt.barh(d2_sorted['Neighborhoods'], d2_sorted['Number_of_Arrests_Made'])\n",
    "plt.xlabel(\"Total Arrests Made\")\n",
    "\n",
    "# Now finally output the bar graph \n",
    "plt.show()\n",
    "\n"
   ]
  },
  {
   "cell_type": "markdown",
   "metadata": {},
   "source": [
    "# Code Explanation: Comments Found Above Each Code Segment "
   ]
  },
  {
   "cell_type": "code",
   "execution_count": null,
   "metadata": {},
   "outputs": [],
   "source": [
    "d2['Number_of_Arrests_Made'] = pd.to_numeric(d2['Number_of_Arrests_Made'], errors='coerce')\n",
    "\n",
    "# First sort the DataFrame by 'Number_of_Arrests_Made' in descending order\n",
    "d2_sorted = d2.sort_values(by='Number_of_Arrests_Made', ascending=False)\n",
    "\n",
    "# Now select the top 5 and bottom 5 neighborhoods\n",
    "top_and_bottom_5 = pd.concat([d2_sorted.head(5), d2_sorted.tail(5)])\n",
    "\n",
    "# Then create a bar graph with different colors for top and bottom 5\n",
    "colors = ['red'] * 5 + ['blue'] * 5\n",
    "plt.figure(figsize=(20, 10))\n",
    "plt.barh(top_and_bottom_5['Neighborhoods'], top_and_bottom_5['Number_of_Arrests_Made'], color=colors)\n",
    "plt.xlabel(\"Total Arrests Made\")\n",
    "plt.title(\"Top 5 (Red) and Bottom 5 (Blue) Neighborhoods by Total Arrests Made\")\n",
    "\n",
    "# Next add a legend (in terms of grphing)\n",
    "top_legend = plt.Line2D([0], [0], marker='o', color='w', markerfacecolor='red', markersize=10, label='Top 5')\n",
    "bottom_legend = plt.Line2D([0], [0], marker='o', color='w', markerfacecolor='blue', markersize=10, label='Bottom 5')\n",
    "plt.legend(handles=[top_legend, bottom_legend])\n",
    "\n",
    "# Finally output the graph \n",
    "plt.show()\n"
   ]
  },
  {
   "cell_type": "markdown",
   "metadata": {},
   "source": [
    "# Dataset Explanation\n",
    "If you hadn't noticed, the previous bar graph outputted the raw sorted data from all neighborhoods. Although the graph has the x-axis as the total arrests made and the Y-axis as the neighborhoods, the output still resembles the same conclusion that Mount. Oliver and Downtown were both the safest and not the safest neighborhoods in the city most of us call home. Although it outputted what we were looking for, for the data set in the form of a bar graph to be easy to read, I decided on sorting and only outputting the five safest and least safe neighborhoods on my graph."
   ]
  },
  {
   "cell_type": "markdown",
   "metadata": {},
   "source": [
    "# Result Evaluation\n",
    "\n",
    "By analyzing our updated graph, we can now examine much more quickly that the five safest neighborhoods on paper are Mt.Oliver, Troy Hill-Herrs Island, Mt.Oliver Boro, Central Northside, and Regent Square in the period of seven years. On the contrary, the neighborhoods of Central Business District, South Side Flats, Cerrick, East Allegheny, and Homewood South are labeled the least safest. By splitting the chart into two different and less amount of neighborhoods, it is more attractive to the human eye. This new and updated graph can now have the power to help our provided audience. "
   ]
  },
  {
   "cell_type": "markdown",
   "metadata": {},
   "source": [
    "# Conclusion\n",
    "\n",
    "In conclusion, Mt.Oliver would be the prime candidate for becoming the safest neighborhood in Pittsburgh if it was just based on the number of arrests. That being said, if I were to compare it to my favorite neighborhood of Southside, my favorite neighborhood would be known as a \"bad neighborhood.\" However, when compared to each other, their activity levels are highly different due to the number of restaurants, stores, and businesses in Southside compared to Mt.Oliver. In my opinion, you can't base the best neighborhood on just how safe they are rather than on other factors.\n"
   ]
  }
 ],
 "metadata": {
  "kernelspec": {
   "display_name": "Python 3",
   "language": "python",
   "name": "python3"
  },
  "language_info": {
   "codemirror_mode": {
    "name": "ipython",
    "version": 3
   },
   "file_extension": ".py",
   "mimetype": "text/x-python",
   "name": "python",
   "nbconvert_exporter": "python",
   "pygments_lexer": "ipython3",
   "version": "3.8.3"
  }
 },
 "nbformat": 4,
 "nbformat_minor": 4
}
